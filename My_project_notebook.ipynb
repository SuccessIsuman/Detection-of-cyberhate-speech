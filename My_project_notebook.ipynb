{
 "cells": [
  {
   "cell_type": "code",
   "execution_count": 6,
   "metadata": {
    "collapsed": true
   },
   "outputs": [
    {
     "name": "stdout",
     "output_type": "stream",
     "text": [
      "Requirement already satisfied: tweepy in c:\\users\\isuman success\\anaconda3\\lib\\site-packages (4.10.1)\n",
      "Requirement already satisfied: requests-oauthlib<2,>=1.2.0 in c:\\users\\isuman success\\anaconda3\\lib\\site-packages (from tweepy) (1.3.1)\n",
      "Requirement already satisfied: oauthlib<4,>=3.2.0 in c:\\users\\isuman success\\anaconda3\\lib\\site-packages (from tweepy) (3.2.0)\n",
      "Requirement already satisfied: requests<3,>=2.27.0 in c:\\users\\isuman success\\anaconda3\\lib\\site-packages (from tweepy) (2.28.1)\n",
      "Requirement already satisfied: urllib3<1.27,>=1.21.1 in c:\\users\\isuman success\\anaconda3\\lib\\site-packages (from requests<3,>=2.27.0->tweepy) (1.25.8)\n",
      "Requirement already satisfied: charset-normalizer<3,>=2 in c:\\users\\isuman success\\anaconda3\\lib\\site-packages (from requests<3,>=2.27.0->tweepy) (2.1.1)\n",
      "Requirement already satisfied: certifi>=2017.4.17 in c:\\users\\isuman success\\anaconda3\\lib\\site-packages (from requests<3,>=2.27.0->tweepy) (2019.11.28)\n",
      "Requirement already satisfied: idna<4,>=2.5 in c:\\users\\isuman success\\anaconda3\\lib\\site-packages (from requests<3,>=2.27.0->tweepy) (2.8)\n"
     ]
    },
    {
     "name": "stderr",
     "output_type": "stream",
     "text": [
      "WARNING: There was an error checking the latest version of pip.\n"
     ]
    }
   ],
   "source": [
    "!pip install tweepy"
   ]
  },
  {
   "cell_type": "code",
   "execution_count": 1,
   "metadata": {
    "scrolled": true
   },
   "outputs": [],
   "source": [
    "import pandas as pd\n",
    "import tweepy\n",
    "import nltk\n",
    "from nltk.corpus import stopwords\n",
    "from itertools import groupby   \n",
    "import string\n",
    "from nltk.stem import PorterStemmer"
   ]
  },
  {
   "cell_type": "markdown",
   "metadata": {},
   "source": [
    "# Scrapping tweets text from twitter using twitter API and a given set of tweet ID"
   ]
  },
  {
   "cell_type": "code",
   "execution_count": 2,
   "metadata": {},
   "outputs": [],
   "source": [
    "def tweet_id_text(tweet_id_data):\n",
    "    #opens up the file containg labeled tweets ID\n",
    "    data=[]\n",
    "    with open(tweet_id_data) as cyber_hate:\n",
    "        for line in cyber_hate:\n",
    "            lines=line.strip()\n",
    "            data.append(lines)\n",
    "\n",
    "    tweets=[]\n",
    "    for line in data:\n",
    "        lines=line.split(',')\n",
    "        tweet={'ID':lines[0],'label':lines[1]}\n",
    "        tweets.append(tweet)\n",
    "# Takes the API key and token NOTE:: the 'XXX' below should be changes to actual\n",
    "# twitter API key and token\n",
    "\n",
    "    API_key= 'XXX'\n",
    "    API_key_secret= 'XXX'\n",
    "    access_token= 'XXX'\n",
    "    access_token_secret= 'XXX'\n",
    "# initializing tweepy for scraping\n",
    "    auth = tweepy.OAuthHandler(API_key, API_key_secret)\n",
    "    auth.set_access_token(access_token, access_token_secret)\n",
    "    api = tweepy.API(auth)\n",
    "# Gets the text from twiter and saved in as a list of list with its corresponding label\n",
    "    import time\n",
    "    dataSet=[]\n",
    "    sleepTime = 1\n",
    "    for tweet in data1:\n",
    "        try:\n",
    "            tweetFetched = api.get_status(tweet[\"ID\"])\n",
    "            print(\"Tweet fetched\" + tweetFetched.text)\n",
    "            text = tweetFetched.text\n",
    "            tweet=[tweet[\"ID\"], text, tweet[\"label\"]]\n",
    "            dataSet.append(tweet)\n",
    "            time.sleep(sleepTime)\n",
    "        except:\n",
    "            print(\"Inside the exception - no:2\")\n",
    "            continue\n",
    "            df=pd.DataFrame(dataSet, columns=['ID', 'text', 'label'], index=False)\n",
    "            df.to_csv('dataset_2.csv')\n",
    "    return 'successfully loaded the dataset to a csv file'\n",
    "# tweet_id_text('hatespeech_labels.csv')\n"
   ]
  },
  {
   "cell_type": "markdown",
   "metadata": {},
   "source": [
    "## Loading the scarped data to a pandas dataframe"
   ]
  },
  {
   "cell_type": "code",
   "execution_count": 7,
   "metadata": {},
   "outputs": [],
   "source": [
    "\"\"\"\n",
    "The data was scraped from twitter and saved to a differnt CSV file \n",
    "since they contain different aspect of hate speeches \n",
    "the function below loaded all the various dataset and retures a single data frame\n",
    "NOTE: the fuction recieves a list of all the dataset with their extension.\n",
    "\"\"\"\n",
    "# def load_data(dataset_list):\n",
    "#     df=[]\n",
    "#     for dataset in dataset_list:\n",
    "#         data=pd.read_csv(dataset)\n",
    "#         data.drop('Unnamed: 0', inplace=True, axis=1)\n",
    "#         df.append(data)\n",
    "#     dataframe=pd.concat(df, ignore_index=True)\n",
    "#     return dataframe\n",
    "    \n",
    "        \n",
    "\n",
    "# data_list=['dataset_1.csv', 'dataset_1a.csv', 'dataset_1b.csv', 'dataset_2.csv', \n",
    "#            'dataset_2a.csv','dataset_3.csv','dataset_4.csv', 'dataset_5.csv', \n",
    "#            'dataset_6.csv', 'dataset_7.csv'] \n",
    "    \n",
    "\n",
    "# data= load_data(data_list)\n",
    "# data.to_csv('CyberHateDataSat.csv', index=False)"
   ]
  },
  {
   "cell_type": "code",
   "execution_count": 10,
   "metadata": {},
   "outputs": [
    {
     "data": {
      "text/html": [
       "<div>\n",
       "<style scoped>\n",
       "    .dataframe tbody tr th:only-of-type {\n",
       "        vertical-align: middle;\n",
       "    }\n",
       "\n",
       "    .dataframe tbody tr th {\n",
       "        vertical-align: top;\n",
       "    }\n",
       "\n",
       "    .dataframe thead th {\n",
       "        text-align: right;\n",
       "    }\n",
       "</style>\n",
       "<table border=\"1\" class=\"dataframe\">\n",
       "  <thead>\n",
       "    <tr style=\"text-align: right;\">\n",
       "      <th></th>\n",
       "      <th>ID</th>\n",
       "      <th>text</th>\n",
       "      <th>label</th>\n",
       "    </tr>\n",
       "  </thead>\n",
       "  <tbody>\n",
       "    <tr>\n",
       "      <th>0</th>\n",
       "      <td>850490912954351616</td>\n",
       "      <td>Alex Brosas another idiot #ALDUBKSGoesToUS  ht...</td>\n",
       "      <td>abusive</td>\n",
       "    </tr>\n",
       "    <tr>\n",
       "      <th>1</th>\n",
       "      <td>848791766853668864</td>\n",
       "      <td>RT @ItIzBiz: as Nancy Reagan would say, 'just ...</td>\n",
       "      <td>abusive</td>\n",
       "    </tr>\n",
       "    <tr>\n",
       "      <th>2</th>\n",
       "      <td>850010509969465344</td>\n",
       "      <td>RT @MailOnline: The Nazi death gas so horrific...</td>\n",
       "      <td>normal</td>\n",
       "    </tr>\n",
       "    <tr>\n",
       "      <th>3</th>\n",
       "      <td>850433664890544128</td>\n",
       "      <td>I hate er chase because if the Bitch that work...</td>\n",
       "      <td>hateful</td>\n",
       "    </tr>\n",
       "    <tr>\n",
       "      <th>4</th>\n",
       "      <td>848619867506913282</td>\n",
       "      <td>RT @chevleia: don't hmu when u get tired of ur...</td>\n",
       "      <td>abusive</td>\n",
       "    </tr>\n",
       "    <tr>\n",
       "      <th>5</th>\n",
       "      <td>850411934205845504</td>\n",
       "      <td>RT @ashllyd: SICK OF BITCHES ON THE INTERNET 🐍...</td>\n",
       "      <td>abusive</td>\n",
       "    </tr>\n",
       "    <tr>\n",
       "      <th>6</th>\n",
       "      <td>850100742035836929</td>\n",
       "      <td>RT @nyctophil3: Pineapples do not belong on pi...</td>\n",
       "      <td>hateful</td>\n",
       "    </tr>\n",
       "    <tr>\n",
       "      <th>7</th>\n",
       "      <td>849282894682050564</td>\n",
       "      <td>But he still with the shits so he started smok...</td>\n",
       "      <td>abusive</td>\n",
       "    </tr>\n",
       "    <tr>\n",
       "      <th>8</th>\n",
       "      <td>848491429517295616</td>\n",
       "      <td>RT @Configa: April Fools fucking #dope If you ...</td>\n",
       "      <td>abusive</td>\n",
       "    </tr>\n",
       "    <tr>\n",
       "      <th>9</th>\n",
       "      <td>847804507367100416</td>\n",
       "      <td>Niggas keep talking about women wearing weave ...</td>\n",
       "      <td>hateful</td>\n",
       "    </tr>\n",
       "  </tbody>\n",
       "</table>\n",
       "</div>"
      ],
      "text/plain": [
       "                   ID                                               text  \\\n",
       "0  850490912954351616  Alex Brosas another idiot #ALDUBKSGoesToUS  ht...   \n",
       "1  848791766853668864  RT @ItIzBiz: as Nancy Reagan would say, 'just ...   \n",
       "2  850010509969465344  RT @MailOnline: The Nazi death gas so horrific...   \n",
       "3  850433664890544128  I hate er chase because if the Bitch that work...   \n",
       "4  848619867506913282  RT @chevleia: don't hmu when u get tired of ur...   \n",
       "5  850411934205845504  RT @ashllyd: SICK OF BITCHES ON THE INTERNET 🐍...   \n",
       "6  850100742035836929  RT @nyctophil3: Pineapples do not belong on pi...   \n",
       "7  849282894682050564  But he still with the shits so he started smok...   \n",
       "8  848491429517295616  RT @Configa: April Fools fucking #dope If you ...   \n",
       "9  847804507367100416  Niggas keep talking about women wearing weave ...   \n",
       "\n",
       "     label  \n",
       "0  abusive  \n",
       "1  abusive  \n",
       "2   normal  \n",
       "3  hateful  \n",
       "4  abusive  \n",
       "5  abusive  \n",
       "6  hateful  \n",
       "7  abusive  \n",
       "8  abusive  \n",
       "9  hateful  "
      ]
     },
     "execution_count": 10,
     "metadata": {},
     "output_type": "execute_result"
    }
   ],
   "source": [
    "data=pd.read_csv('CyberHateDataSat.csv')\n",
    "data\n",
    "data.head(10)"
   ]
  },
  {
   "cell_type": "code",
   "execution_count": 9,
   "metadata": {},
   "outputs": [],
   "source": []
  },
  {
   "cell_type": "markdown",
   "metadata": {},
   "source": [
    "# Data preprocessing"
   ]
  },
  {
   "cell_type": "code",
   "execution_count": 147,
   "metadata": {},
   "outputs": [
    {
     "data": {
      "text/plain": [
       "array([1, 0], dtype=int64)"
      ]
     },
     "execution_count": 147,
     "metadata": {},
     "output_type": "execute_result"
    }
   ],
   "source": [
    "data['label'].unique()\n"
   ]
  },
  {
   "cell_type": "code",
   "execution_count": 31,
   "metadata": {},
   "outputs": [],
   "source": [
    "def word_removal(word):\n",
    "    from itertools import groupby\n",
    "    import string\n",
    "    \"\"\" This function does the following preprocessing:\n",
    "    1. user name removal\n",
    "    2. Punctuation marks removal\n",
    "    3. Special character removal\n",
    "    \"\"\"\n",
    "    char_list=['@','http','xa0','ðŸ','$', '‰']\n",
    "    word_list=str(word).split()\n",
    "    bow=[word for word in word_list if all(ch not in word for ch in char_list)]\n",
    "    text=' '.join(bow)\n",
    "    no_puntuation= [char for char in text if char not in string.punctuation]\n",
    "    words=''.join(no_puntuation)\n",
    "    return words\n",
    "data['text']=data['text'].apply(word_removal)\n"
   ]
  },
  {
   "cell_type": "code",
   "execution_count": 32,
   "metadata": {},
   "outputs": [],
   "source": [
    "def replaceWord(word):\n",
    "    if word == 'normal' or word=='none' or word=='spam':\n",
    "        return 0\n",
    "    else:\n",
    "        return 1\n",
    "    \n",
    "    \n",
    "data['label']=data['label'].apply(replaceWord)\n"
   ]
  },
  {
   "cell_type": "markdown",
   "metadata": {},
   "source": [
    "# Data exploration and visualization"
   ]
  },
  {
   "cell_type": "code",
   "execution_count": 33,
   "metadata": {},
   "outputs": [
    {
     "data": {
      "text/html": [
       "<div>\n",
       "<style scoped>\n",
       "    .dataframe tbody tr th:only-of-type {\n",
       "        vertical-align: middle;\n",
       "    }\n",
       "\n",
       "    .dataframe tbody tr th {\n",
       "        vertical-align: top;\n",
       "    }\n",
       "\n",
       "    .dataframe thead tr th {\n",
       "        text-align: left;\n",
       "    }\n",
       "\n",
       "    .dataframe thead tr:last-of-type th {\n",
       "        text-align: right;\n",
       "    }\n",
       "</style>\n",
       "<table border=\"1\" class=\"dataframe\">\n",
       "  <thead>\n",
       "    <tr>\n",
       "      <th></th>\n",
       "      <th colspan=\"8\" halign=\"left\">ID</th>\n",
       "    </tr>\n",
       "    <tr>\n",
       "      <th></th>\n",
       "      <th>count</th>\n",
       "      <th>mean</th>\n",
       "      <th>std</th>\n",
       "      <th>min</th>\n",
       "      <th>25%</th>\n",
       "      <th>50%</th>\n",
       "      <th>75%</th>\n",
       "      <th>max</th>\n",
       "    </tr>\n",
       "    <tr>\n",
       "      <th>label</th>\n",
       "      <th></th>\n",
       "      <th></th>\n",
       "      <th></th>\n",
       "      <th></th>\n",
       "      <th></th>\n",
       "      <th></th>\n",
       "      <th></th>\n",
       "      <th></th>\n",
       "    </tr>\n",
       "  </thead>\n",
       "  <tbody>\n",
       "    <tr>\n",
       "      <th>0</th>\n",
       "      <td>17982.0</td>\n",
       "      <td>7.986387e+17</td>\n",
       "      <td>1.087200e+17</td>\n",
       "      <td>3.208178e+17</td>\n",
       "      <td>8.476300e+17</td>\n",
       "      <td>8.487998e+17</td>\n",
       "      <td>8.497919e+17</td>\n",
       "      <td>8.508454e+17</td>\n",
       "    </tr>\n",
       "    <tr>\n",
       "      <th>1</th>\n",
       "      <td>5596.0</td>\n",
       "      <td>7.124330e+17</td>\n",
       "      <td>1.479453e+17</td>\n",
       "      <td>3.819882e+17</td>\n",
       "      <td>5.670200e+17</td>\n",
       "      <td>8.476281e+17</td>\n",
       "      <td>8.493012e+17</td>\n",
       "      <td>8.508443e+17</td>\n",
       "    </tr>\n",
       "  </tbody>\n",
       "</table>\n",
       "</div>"
      ],
      "text/plain": [
       "            ID                                                          \\\n",
       "         count          mean           std           min           25%   \n",
       "label                                                                    \n",
       "0      17982.0  7.986387e+17  1.087200e+17  3.208178e+17  8.476300e+17   \n",
       "1       5596.0  7.124330e+17  1.479453e+17  3.819882e+17  5.670200e+17   \n",
       "\n",
       "                                                 \n",
       "                50%           75%           max  \n",
       "label                                            \n",
       "0      8.487998e+17  8.497919e+17  8.508454e+17  \n",
       "1      8.476281e+17  8.493012e+17  8.508443e+17  "
      ]
     },
     "execution_count": 33,
     "metadata": {},
     "output_type": "execute_result"
    }
   ],
   "source": [
    "data.groupby('label').describe()"
   ]
  },
  {
   "cell_type": "code",
   "execution_count": 36,
   "metadata": {},
   "outputs": [
    {
     "data": {
      "text/html": [
       "<div>\n",
       "<style scoped>\n",
       "    .dataframe tbody tr th:only-of-type {\n",
       "        vertical-align: middle;\n",
       "    }\n",
       "\n",
       "    .dataframe tbody tr th {\n",
       "        vertical-align: top;\n",
       "    }\n",
       "\n",
       "    .dataframe thead th {\n",
       "        text-align: right;\n",
       "    }\n",
       "</style>\n",
       "<table border=\"1\" class=\"dataframe\">\n",
       "  <thead>\n",
       "    <tr style=\"text-align: right;\">\n",
       "      <th></th>\n",
       "      <th>ID</th>\n",
       "      <th>text</th>\n",
       "      <th>label</th>\n",
       "      <th>lenght</th>\n",
       "    </tr>\n",
       "  </thead>\n",
       "  <tbody>\n",
       "    <tr>\n",
       "      <th>0</th>\n",
       "      <td>850490912954351616</td>\n",
       "      <td>Alex Brosas another idiot ALDUBKSGoesToUS</td>\n",
       "      <td>1</td>\n",
       "      <td>41</td>\n",
       "    </tr>\n",
       "    <tr>\n",
       "      <th>1</th>\n",
       "      <td>848791766853668864</td>\n",
       "      <td>RT as Nancy Reagan would say just say FUCKING ...</td>\n",
       "      <td>1</td>\n",
       "      <td>71</td>\n",
       "    </tr>\n",
       "    <tr>\n",
       "      <th>2</th>\n",
       "      <td>850010509969465344</td>\n",
       "      <td>RT The Nazi death gas so horrific even Hitler ...</td>\n",
       "      <td>0</td>\n",
       "      <td>61</td>\n",
       "    </tr>\n",
       "    <tr>\n",
       "      <th>3</th>\n",
       "      <td>850433664890544128</td>\n",
       "      <td>I hate er chase because if the Bitch that work...</td>\n",
       "      <td>1</td>\n",
       "      <td>73</td>\n",
       "    </tr>\n",
       "    <tr>\n",
       "      <th>4</th>\n",
       "      <td>848619867506913282</td>\n",
       "      <td>RT dont hmu when u get tired of ur boring hoe ...</td>\n",
       "      <td>1</td>\n",
       "      <td>63</td>\n",
       "    </tr>\n",
       "  </tbody>\n",
       "</table>\n",
       "</div>"
      ],
      "text/plain": [
       "                   ID                                               text  \\\n",
       "0  850490912954351616          Alex Brosas another idiot ALDUBKSGoesToUS   \n",
       "1  848791766853668864  RT as Nancy Reagan would say just say FUCKING ...   \n",
       "2  850010509969465344  RT The Nazi death gas so horrific even Hitler ...   \n",
       "3  850433664890544128  I hate er chase because if the Bitch that work...   \n",
       "4  848619867506913282  RT dont hmu when u get tired of ur boring hoe ...   \n",
       "\n",
       "   label  lenght  \n",
       "0      1      41  \n",
       "1      1      71  \n",
       "2      0      61  \n",
       "3      1      73  \n",
       "4      1      63  "
      ]
     },
     "execution_count": 36,
     "metadata": {},
     "output_type": "execute_result"
    }
   ],
   "source": [
    "data['lenght']=data['text'].apply(len)\n",
    "data.head()"
   ]
  },
  {
   "cell_type": "code",
   "execution_count": 34,
   "metadata": {},
   "outputs": [],
   "source": [
    "import matplotlib.pyplot as plt\n",
    "import seaborn as sns\n",
    "%matplotlib inline"
   ]
  },
  {
   "cell_type": "code",
   "execution_count": 37,
   "metadata": {},
   "outputs": [
    {
     "data": {
      "text/plain": [
       "<matplotlib.axes._subplots.AxesSubplot at 0x21093df3488>"
      ]
     },
     "execution_count": 37,
     "metadata": {},
     "output_type": "execute_result"
    },
    {
     "data": {
      "image/png": "[encoded data removed]",
      "text/plain": [
       "<Figure size 432x288 with 1 Axes>"
      ]
     },
     "metadata": {
      "needs_background": "light"
     },
     "output_type": "display_data"
    }
   ],
   "source": [
    "data['lenght'].plot.hist(bins=50)"
   ]
  },
  {
   "cell_type": "code",
   "execution_count": 38,
   "metadata": {},
   "outputs": [
    {
     "data": {
      "text/plain": [
       "count    23578.000000\n",
       "mean        83.494402\n",
       "std         29.102532\n",
       "min          0.000000\n",
       "25%         66.000000\n",
       "50%         86.000000\n",
       "75%        105.000000\n",
       "max        145.000000\n",
       "Name: lenght, dtype: float64"
      ]
     },
     "execution_count": 38,
     "metadata": {},
     "output_type": "execute_result"
    }
   ],
   "source": [
    "data['lenght'].describe()"
   ]
  },
  {
   "cell_type": "code",
   "execution_count": 39,
   "metadata": {},
   "outputs": [
    {
     "data": {
      "text/plain": [
       "count    23464.000000\n",
       "mean        83.900060\n",
       "std         28.583847\n",
       "min          1.000000\n",
       "25%         67.000000\n",
       "50%         86.000000\n",
       "75%        105.000000\n",
       "max        145.000000\n",
       "Name: lenght, dtype: float64"
      ]
     },
     "execution_count": 39,
     "metadata": {},
     "output_type": "execute_result"
    }
   ],
   "source": [
    "data.drop(labels=data[data['lenght']==0].index, inplace=True, axis=0)\n",
    "data['lenght'].describe()"
   ]
  },
  {
   "cell_type": "code",
   "execution_count": 40,
   "metadata": {},
   "outputs": [
    {
     "data": {
      "text/plain": [
       "array([<matplotlib.axes._subplots.AxesSubplot object at 0x0000021094E9E308>,\n",
       "       <matplotlib.axes._subplots.AxesSubplot object at 0x0000021095607408>],\n",
       "      dtype=object)"
      ]
     },
     "execution_count": 40,
     "metadata": {},
     "output_type": "execute_result"
    },
    {
     "data": {
      "image/png": "[encoded data removed]",
      "text/plain": [
       "<Figure size 720x360 with 2 Axes>"
      ]
     },
     "metadata": {
      "needs_background": "light"
     },
     "output_type": "display_data"
    }
   ],
   "source": [
    "data.hist(column='lenght', by='label', bins=50, figsize=(10,5))"
   ]
  },
  {
   "cell_type": "code",
   "execution_count": 50,
   "metadata": {},
   "outputs": [],
   "source": [
    "# def WordEncoder(word):\n",
    "#     \"\"\"\n",
    "#     converts tweets label into a binary code of 0 and 1\n",
    "#     with 1 representing hateful speech\n",
    "#     and 0 representing normal speech\n",
    "#     \"\"\"\n",
    "#     if word == 'normal': \n",
    "#         return int(0)\n",
    "#     else:\n",
    "#         return int(1)\n",
    "# data['label']=data['label'].apply(WordEncoder)\n",
    "# data['label'].head(20)"
   ]
  },
  {
   "cell_type": "markdown",
   "metadata": {},
   "source": [
    "# Spliting your data into training and testing set"
   ]
  },
  {
   "cell_type": "code",
   "execution_count": 47,
   "metadata": {},
   "outputs": [],
   "source": [
    "from sklearn.model_selection import train_test_split"
   ]
  },
  {
   "cell_type": "code",
   "execution_count": 48,
   "metadata": {},
   "outputs": [],
   "source": [
    "train_set,X_test,train_lab,y_test=train_test_split(data['text'], data['label'], \n",
    "                                               test_size=0.2,random_state=101)"
   ]
  },
  {
   "cell_type": "code",
   "execution_count": null,
   "metadata": {},
   "outputs": [],
   "source": []
  },
  {
   "cell_type": "markdown",
   "metadata": {},
   "source": [
    "# Spliting the training data into training and validation set"
   ]
  },
  {
   "cell_type": "code",
   "execution_count": 49,
   "metadata": {},
   "outputs": [],
   "source": [
    "X_train,X_val,y_train,y_val=train_test_split(train_set, train_lab, \n",
    "                                               test_size=0.2,random_state=101)"
   ]
  },
  {
   "cell_type": "code",
   "execution_count": 50,
   "metadata": {},
   "outputs": [
    {
     "data": {
      "text/plain": [
       "20294    Thats because they were safe from elimination ...\n",
       "4563     Ravi and Ashley is boring the hell out of me H...\n",
       "11561    Now this is a sunset FortMyersBeach EdisonBeac...\n",
       "18659    Too much drinking Too many porn stars Then the...\n",
       "10483    qrnt m FAMILY ONED I vote for OneDirection You...\n",
       "Name: text, dtype: object"
      ]
     },
     "execution_count": 50,
     "metadata": {},
     "output_type": "execute_result"
    }
   ],
   "source": [
    "X_val.head()"
   ]
  },
  {
   "cell_type": "markdown",
   "metadata": {},
   "source": [
    "# Vectorizing our data from scratch"
   ]
  },
  {
   "cell_type": "markdown",
   "metadata": {},
   "source": [
    "### Text pre-processing (bag of words)"
   ]
  },
  {
   "cell_type": "code",
   "execution_count": 51,
   "metadata": {},
   "outputs": [],
   "source": [
    "\"\"\"\n",
    "writing a helper function that will remove stop words from the list of words\n",
    "\"\"\"\n",
    "def text_processing(word):\n",
    "    \"\"\"\n",
    "    1. remove stop words\n",
    "    2. return a list of clean text words (list of tokens)\n",
    "    \"\"\"\n",
    "    words_list=word.split()\n",
    "    clean_text=[word for word in words_list \n",
    "                if word.lower() not in stopwords.words('english')]\n",
    "    return clean_text"
   ]
  },
  {
   "cell_type": "code",
   "execution_count": 52,
   "metadata": {},
   "outputs": [],
   "source": [
    "from sklearn.feature_extraction.text import CountVectorizer"
   ]
  },
  {
   "cell_type": "code",
   "execution_count": 53,
   "metadata": {},
   "outputs": [],
   "source": [
    "train_bow_transformer=CountVectorizer(analyzer=text_processing).fit(X_train)\n",
    "val_bow_transformer=CountVectorizer(analyzer=text_processing).fit(X_val)"
   ]
  },
  {
   "cell_type": "code",
   "execution_count": 54,
   "metadata": {},
   "outputs": [
    {
     "name": "stdout",
     "output_type": "stream",
     "text": [
      "train: 37840\n",
      "val: 14598\n"
     ]
    }
   ],
   "source": [
    "print('train:', len(train_bow_transformer.vocabulary_))\n",
    "print('val:', len( val_bow_transformer.vocabulary_))"
   ]
  },
  {
   "cell_type": "code",
   "execution_count": 55,
   "metadata": {},
   "outputs": [],
   "source": [
    "train_bow=train_bow_transformer.transform(X_train)\n",
    "val_bow=val_bow_transformer.transform(X_val)"
   ]
  },
  {
   "cell_type": "code",
   "execution_count": 56,
   "metadata": {},
   "outputs": [
    {
     "name": "stdout",
     "output_type": "stream",
     "text": [
      "shape of training set sparse metrix: (15016, 37840)\n",
      "shape of validating set sparse metrix: (3755, 14598)\n"
     ]
    }
   ],
   "source": [
    "print('shape of training set sparse metrix:', train_bow.shape)\n",
    "print('shape of validating set sparse metrix:', val_bow.shape)"
   ]
  },
  {
   "cell_type": "code",
   "execution_count": 57,
   "metadata": {},
   "outputs": [
    {
     "name": "stdout",
     "output_type": "stream",
     "text": [
      "no. of non zerros in traing set 140030\n",
      "no. of non zerros in validating set 35031\n"
     ]
    }
   ],
   "source": [
    "print('no. of non zerros in traing set', train_bow.nnz)\n",
    "print('no. of non zerros in validating set', val_bow.nnz)"
   ]
  },
  {
   "cell_type": "code",
   "execution_count": 58,
   "metadata": {},
   "outputs": [
    {
     "name": "stdout",
     "output_type": "stream",
     "text": [
      "training sparsity: 0.025\n",
      "validating sparsity: 0.064\n"
     ]
    }
   ],
   "source": [
    "train_sparsity = (100.0 * train_bow.nnz / (train_bow.shape[0] * train_bow.shape[1]))\n",
    "val_sparsity = (100.0 * val_bow.nnz / (val_bow.shape[0] * val_bow.shape[1]))\n",
    "\n",
    "print('training sparsity: {}'.format(round(train_sparsity, 3)))\n",
    "print('validating sparsity: {}'.format(round(val_sparsity, 3)))"
   ]
  },
  {
   "cell_type": "markdown",
   "metadata": {},
   "source": [
    "# weigth and normalization with TF-IDF"
   ]
  },
  {
   "cell_type": "code",
   "execution_count": 59,
   "metadata": {},
   "outputs": [],
   "source": [
    "from sklearn.feature_extraction.text import TfidfTransformer"
   ]
  },
  {
   "cell_type": "code",
   "execution_count": 60,
   "metadata": {},
   "outputs": [],
   "source": [
    "tfidf_transform_train=TfidfTransformer().fit(train_bow)\n",
    "tfidf_transform_val=TfidfTransformer().fit(val_bow)"
   ]
  },
  {
   "cell_type": "code",
   "execution_count": 61,
   "metadata": {},
   "outputs": [],
   "source": [
    "train_tfidf=tfidf_transform_train.transform(train_bow)\n",
    "val_tfidf=tfidf_transform_val.transform(val_bow)"
   ]
  },
  {
   "cell_type": "markdown",
   "metadata": {},
   "source": [
    "## traning the model with logistic regression classifier"
   ]
  },
  {
   "cell_type": "code",
   "execution_count": 62,
   "metadata": {},
   "outputs": [],
   "source": [
    "from sklearn.linear_model import LogisticRegression\n",
    "from sklearn.metrics import classification_report"
   ]
  },
  {
   "cell_type": "code",
   "execution_count": 63,
   "metadata": {},
   "outputs": [],
   "source": [
    "lm = LogisticRegression()"
   ]
  },
  {
   "cell_type": "code",
   "execution_count": 64,
   "metadata": {},
   "outputs": [
    {
     "data": {
      "text/plain": [
       "LogisticRegression(C=1.0, class_weight=None, dual=False, fit_intercept=True,\n",
       "                   intercept_scaling=1, l1_ratio=None, max_iter=100,\n",
       "                   multi_class='auto', n_jobs=None, penalty='l2',\n",
       "                   random_state=None, solver='lbfgs', tol=0.0001, verbose=0,\n",
       "                   warm_start=False)"
      ]
     },
     "execution_count": 64,
     "metadata": {},
     "output_type": "execute_result"
    }
   ],
   "source": [
    "lm.fit(train_tfidf,y_train)\n"
   ]
  },
  {
   "cell_type": "code",
   "execution_count": 65,
   "metadata": {},
   "outputs": [
    {
     "name": "stdout",
     "output_type": "stream",
     "text": [
      "              precision    recall  f1-score   support\n",
      "\n",
      "           0       0.89      0.99      0.93     11436\n",
      "           1       0.95      0.59      0.73      3580\n",
      "\n",
      "    accuracy                           0.90     15016\n",
      "   macro avg       0.92      0.79      0.83     15016\n",
      "weighted avg       0.90      0.90      0.89     15016\n",
      "\n"
     ]
    }
   ],
   "source": [
    "\"\"\"Self evaluation to check for under fiting\"\"\"\n",
    "lm_prec=lm.predict(train_tfidf)\n",
    "print(classification_report(y_train,lm_prec))"
   ]
  },
  {
   "cell_type": "code",
   "execution_count": 66,
   "metadata": {},
   "outputs": [
    {
     "data": {
      "text/plain": [
       "<1x37840 sparse matrix of type '<class 'numpy.float64'>'\n",
       "\twith 6 stored elements in Compressed Sparse Row format>"
      ]
     },
     "execution_count": 66,
     "metadata": {},
     "output_type": "execute_result"
    }
   ],
   "source": [
    "train_tfidf[0]"
   ]
  },
  {
   "cell_type": "markdown",
   "metadata": {},
   "source": [
    "# using pipeline for the general process"
   ]
  },
  {
   "cell_type": "code",
   "execution_count": 67,
   "metadata": {},
   "outputs": [],
   "source": [
    "from sklearn.pipeline import Pipeline"
   ]
  },
  {
   "cell_type": "code",
   "execution_count": 68,
   "metadata": {},
   "outputs": [],
   "source": [
    "LR_pipeline=Pipeline([('bow', CountVectorizer(analyzer=text_processing)), \n",
    "                    ('tfidf', TfidfTransformer()), \n",
    "                    ('classifier', LogisticRegression())\n",
    "                  ])\n"
   ]
  },
  {
   "cell_type": "code",
   "execution_count": 69,
   "metadata": {},
   "outputs": [
    {
     "data": {
      "text/plain": [
       "Pipeline(memory=None,\n",
       "         steps=[('bow',\n",
       "                 CountVectorizer(analyzer=<function text_processing at 0x00000210956C03A8>,\n",
       "                                 binary=False, decode_error='strict',\n",
       "                                 dtype=<class 'numpy.int64'>, encoding='utf-8',\n",
       "                                 input='content', lowercase=True, max_df=1.0,\n",
       "                                 max_features=None, min_df=1,\n",
       "                                 ngram_range=(1, 1), preprocessor=None,\n",
       "                                 stop_words=None, strip_accents=None,\n",
       "                                 token_pattern='(?u)\\\\b\\\\w...\n",
       "                ('tfidf',\n",
       "                 TfidfTransformer(norm='l2', smooth_idf=True,\n",
       "                                  sublinear_tf=False, use_idf=True)),\n",
       "                ('classifier',\n",
       "                 LogisticRegression(C=1.0, class_weight=None, dual=False,\n",
       "                                    fit_intercept=True, intercept_scaling=1,\n",
       "                                    l1_ratio=None, max_iter=100,\n",
       "                                    multi_class='auto', n_jobs=None,\n",
       "                                    penalty='l2', random_state=None,\n",
       "                                    solver='lbfgs', tol=0.0001, verbose=0,\n",
       "                                    warm_start=False))],\n",
       "         verbose=False)"
      ]
     },
     "execution_count": 69,
     "metadata": {},
     "output_type": "execute_result"
    }
   ],
   "source": [
    "LR_pipeline.fit(X_train,y_train)"
   ]
  },
  {
   "cell_type": "code",
   "execution_count": null,
   "metadata": {},
   "outputs": [],
   "source": []
  },
  {
   "cell_type": "code",
   "execution_count": 70,
   "metadata": {},
   "outputs": [
    {
     "name": "stdout",
     "output_type": "stream",
     "text": [
      "              precision    recall  f1-score   support\n",
      "\n",
      "           0       0.87      0.98      0.92      2874\n",
      "           1       0.89      0.53      0.67       881\n",
      "\n",
      "    accuracy                           0.87      3755\n",
      "   macro avg       0.88      0.76      0.79      3755\n",
      "weighted avg       0.88      0.87      0.86      3755\n",
      "\n"
     ]
    }
   ],
   "source": [
    "LR_prediction=LR_pipeline.predict(X_val)\n",
    "print(classification_report(y_val,LR_prediction))"
   ]
  },
  {
   "cell_type": "code",
   "execution_count": null,
   "metadata": {},
   "outputs": [],
   "source": []
  },
  {
   "cell_type": "markdown",
   "metadata": {},
   "source": [
    "# traning the model with naive bayes classifier"
   ]
  },
  {
   "cell_type": "code",
   "execution_count": 71,
   "metadata": {},
   "outputs": [],
   "source": [
    "from sklearn.naive_bayes import MultinomialNB"
   ]
  },
  {
   "cell_type": "code",
   "execution_count": 72,
   "metadata": {},
   "outputs": [],
   "source": [
    "NB_pipeline=Pipeline([('bow', CountVectorizer(analyzer=text_processing)), \n",
    "                    ('tfidf', TfidfTransformer()), \n",
    "                    ('classifier', MultinomialNB())\n",
    "                  ])\n"
   ]
  },
  {
   "cell_type": "code",
   "execution_count": 73,
   "metadata": {},
   "outputs": [
    {
     "data": {
      "text/plain": [
       "Pipeline(memory=None,\n",
       "         steps=[('bow',\n",
       "                 CountVectorizer(analyzer=<function text_processing at 0x00000210956C03A8>,\n",
       "                                 binary=False, decode_error='strict',\n",
       "                                 dtype=<class 'numpy.int64'>, encoding='utf-8',\n",
       "                                 input='content', lowercase=True, max_df=1.0,\n",
       "                                 max_features=None, min_df=1,\n",
       "                                 ngram_range=(1, 1), preprocessor=None,\n",
       "                                 stop_words=None, strip_accents=None,\n",
       "                                 token_pattern='(?u)\\\\b\\\\w\\\\w+\\\\b',\n",
       "                                 tokenizer=None, vocabulary=None)),\n",
       "                ('tfidf',\n",
       "                 TfidfTransformer(norm='l2', smooth_idf=True,\n",
       "                                  sublinear_tf=False, use_idf=True)),\n",
       "                ('classifier',\n",
       "                 MultinomialNB(alpha=1.0, class_prior=None, fit_prior=True))],\n",
       "         verbose=False)"
      ]
     },
     "execution_count": 73,
     "metadata": {},
     "output_type": "execute_result"
    }
   ],
   "source": [
    "NB_pipeline.fit(X_train,y_train)"
   ]
  },
  {
   "cell_type": "code",
   "execution_count": 74,
   "metadata": {},
   "outputs": [],
   "source": [
    "NB_predictions=NB_pipeline.predict(X_val)"
   ]
  },
  {
   "cell_type": "code",
   "execution_count": 75,
   "metadata": {},
   "outputs": [
    {
     "name": "stdout",
     "output_type": "stream",
     "text": [
      "              precision    recall  f1-score   support\n",
      "\n",
      "           0       0.83      0.99      0.91      2874\n",
      "           1       0.94      0.35      0.51       881\n",
      "\n",
      "    accuracy                           0.84      3755\n",
      "   macro avg       0.89      0.67      0.71      3755\n",
      "weighted avg       0.86      0.84      0.81      3755\n",
      "\n"
     ]
    }
   ],
   "source": [
    "print(classification_report(y_val,NB_predictions))"
   ]
  },
  {
   "cell_type": "markdown",
   "metadata": {},
   "source": [
    "## Training the model with RandomForest Clas"
   ]
  },
  {
   "cell_type": "code",
   "execution_count": 76,
   "metadata": {},
   "outputs": [],
   "source": [
    "from sklearn.ensemble import RandomForestClassifier"
   ]
  },
  {
   "cell_type": "code",
   "execution_count": 77,
   "metadata": {},
   "outputs": [],
   "source": [
    "RF_pipeline=Pipeline([('bow', CountVectorizer(analyzer=text_processing)),\n",
    "                  ('tfidf', TfidfTransformer()),\n",
    "                  ('classifier', RandomForestClassifier(n_estimators=100,\n",
    "                                                       min_samples_split=50,\n",
    "                                                       random_state=1))\n",
    "                  ])"
   ]
  },
  {
   "cell_type": "code",
   "execution_count": 78,
   "metadata": {},
   "outputs": [
    {
     "data": {
      "text/plain": [
       "Pipeline(memory=None,\n",
       "         steps=[('bow',\n",
       "                 CountVectorizer(analyzer=<function text_processing at 0x00000210956C03A8>,\n",
       "                                 binary=False, decode_error='strict',\n",
       "                                 dtype=<class 'numpy.int64'>, encoding='utf-8',\n",
       "                                 input='content', lowercase=True, max_df=1.0,\n",
       "                                 max_features=None, min_df=1,\n",
       "                                 ngram_range=(1, 1), preprocessor=None,\n",
       "                                 stop_words=None, strip_accents=None,\n",
       "                                 token_pattern='(?u)\\\\b\\\\w...\n",
       "                 RandomForestClassifier(bootstrap=True, ccp_alpha=0.0,\n",
       "                                        class_weight=None, criterion='gini',\n",
       "                                        max_depth=None, max_features='auto',\n",
       "                                        max_leaf_nodes=None, max_samples=None,\n",
       "                                        min_impurity_decrease=0.0,\n",
       "                                        min_impurity_split=None,\n",
       "                                        min_samples_leaf=1,\n",
       "                                        min_samples_split=50,\n",
       "                                        min_weight_fraction_leaf=0.0,\n",
       "                                        n_estimators=100, n_jobs=None,\n",
       "                                        oob_score=False, random_state=1,\n",
       "                                        verbose=0, warm_start=False))],\n",
       "         verbose=False)"
      ]
     },
     "execution_count": 78,
     "metadata": {},
     "output_type": "execute_result"
    }
   ],
   "source": [
    "RF_pipeline.fit(X_train,y_train)"
   ]
  },
  {
   "cell_type": "code",
   "execution_count": 79,
   "metadata": {},
   "outputs": [],
   "source": [
    "RF_predictions=RF_pipeline.predict(X_val)"
   ]
  },
  {
   "cell_type": "code",
   "execution_count": 80,
   "metadata": {},
   "outputs": [
    {
     "name": "stdout",
     "output_type": "stream",
     "text": [
      "              precision    recall  f1-score   support\n",
      "\n",
      "           0       0.94      0.96      0.95      2874\n",
      "           1       0.86      0.78      0.82       881\n",
      "\n",
      "    accuracy                           0.92      3755\n",
      "   macro avg       0.90      0.87      0.88      3755\n",
      "weighted avg       0.92      0.92      0.92      3755\n",
      "\n"
     ]
    }
   ],
   "source": [
    "print(classification_report(y_val,RF_predictions))"
   ]
  },
  {
   "cell_type": "markdown",
   "metadata": {},
   "source": [
    "## Training an SVM model"
   ]
  },
  {
   "cell_type": "code",
   "execution_count": 81,
   "metadata": {},
   "outputs": [],
   "source": [
    "from sklearn import svm"
   ]
  },
  {
   "cell_type": "code",
   "execution_count": 82,
   "metadata": {},
   "outputs": [
    {
     "name": "stdout",
     "output_type": "stream",
     "text": [
      "              precision    recall  f1-score   support\n",
      "\n",
      "           0       0.91      0.97      0.94      2874\n",
      "           1       0.87      0.70      0.78       881\n",
      "\n",
      "    accuracy                           0.91      3755\n",
      "   macro avg       0.89      0.84      0.86      3755\n",
      "weighted avg       0.90      0.91      0.90      3755\n",
      "\n",
      "              precision    recall  f1-score   support\n",
      "\n",
      "           0       0.90      0.97      0.94      2874\n",
      "           1       0.87      0.66      0.75       881\n",
      "\n",
      "    accuracy                           0.90      3755\n",
      "   macro avg       0.89      0.81      0.84      3755\n",
      "weighted avg       0.90      0.90      0.89      3755\n",
      "\n",
      "              precision    recall  f1-score   support\n",
      "\n",
      "           0       0.91      0.98      0.94      2874\n",
      "           1       0.91      0.68      0.77       881\n",
      "\n",
      "    accuracy                           0.91      3755\n",
      "   macro avg       0.91      0.83      0.86      3755\n",
      "weighted avg       0.91      0.91      0.90      3755\n",
      "\n"
     ]
    }
   ],
   "source": [
    "karnels=['linear','sigmoid', 'rbf']\n",
    "for karnel in karnels:\n",
    "    Svm_pipeline=Pipeline([('bow', CountVectorizer(analyzer=text_processing)),\n",
    "                           ('tfidf', TfidfTransformer()),\n",
    "                           ('classifier', svm.SVC(kernel=karnel))\n",
    "                          ])\n",
    "    Svm_pipeline.fit(X_train,y_train)\n",
    "    prediction=Svm_pipeline.predict(X_val)\n",
    "    print(classification_report(y_val,prediction))\n",
    "    \n",
    "    \n",
    "    \n",
    "    "
   ]
  },
  {
   "cell_type": "code",
   "execution_count": 83,
   "metadata": {},
   "outputs": [
    {
     "data": {
      "text/plain": [
       "\" it was observed that 'rbf' kernal performed best\""
      ]
     },
     "execution_count": 83,
     "metadata": {},
     "output_type": "execute_result"
    }
   ],
   "source": [
    "\"\"\" it was observed that 'rbf' kernal performed best\"\"\""
   ]
  },
  {
   "cell_type": "markdown",
   "metadata": {},
   "source": [
    "## LightGBM Model Development and Training"
   ]
  },
  {
   "cell_type": "code",
   "execution_count": 84,
   "metadata": {},
   "outputs": [
    {
     "name": "stdout",
     "output_type": "stream",
     "text": [
      "Requirement already satisfied: pip in c:\\users\\isuman success\\anaconda3\\lib\\site-packages (22.2.2)\n"
     ]
    },
    {
     "name": "stderr",
     "output_type": "stream",
     "text": [
      "WARNING: Retrying (Retry(total=4, connect=None, read=None, redirect=None, status=None)) after connection broken by 'NewConnectionError('<pip._vendor.urllib3.connection.HTTPSConnection object at 0x000002219F15D188>: Failed to establish a new connection: [Errno 11001] getaddrinfo failed')': /simple/pip/\n",
      "WARNING: Retrying (Retry(total=3, connect=None, read=None, redirect=None, status=None)) after connection broken by 'NewConnectionError('<pip._vendor.urllib3.connection.HTTPSConnection object at 0x000002219F15F5C8>: Failed to establish a new connection: [Errno 11001] getaddrinfo failed')': /simple/pip/\n",
      "WARNING: Retrying (Retry(total=2, connect=None, read=None, redirect=None, status=None)) after connection broken by 'NewConnectionError('<pip._vendor.urllib3.connection.HTTPSConnection object at 0x000002219F15F508>: Failed to establish a new connection: [Errno 11001] getaddrinfo failed')': /simple/pip/\n",
      "WARNING: Retrying (Retry(total=1, connect=None, read=None, redirect=None, status=None)) after connection broken by 'NewConnectionError('<pip._vendor.urllib3.connection.HTTPSConnection object at 0x000002219F160848>: Failed to establish a new connection: [Errno 11001] getaddrinfo failed')': /simple/pip/\n",
      "WARNING: Retrying (Retry(total=0, connect=None, read=None, redirect=None, status=None)) after connection broken by 'NewConnectionError('<pip._vendor.urllib3.connection.HTTPSConnection object at 0x000002219F160F88>: Failed to establish a new connection: [Errno 11001] getaddrinfo failed')': /simple/pip/\n"
     ]
    }
   ],
   "source": [
    "!pip install --upgrade pip"
   ]
  },
  {
   "cell_type": "code",
   "execution_count": 85,
   "metadata": {},
   "outputs": [
    {
     "name": "stdout",
     "output_type": "stream",
     "text": [
      "Requirement already satisfied: lightgbm in c:\\users\\isuman success\\anaconda3\\lib\\site-packages (3.3.2)\n",
      "Requirement already satisfied: scikit-learn!=0.22.0 in c:\\users\\isuman success\\anaconda3\\lib\\site-packages (from lightgbm) (0.22.1)\n",
      "Requirement already satisfied: numpy in c:\\users\\isuman success\\anaconda3\\lib\\site-packages (from lightgbm) (1.18.1)\n",
      "Requirement already satisfied: scipy in c:\\users\\isuman success\\anaconda3\\lib\\site-packages (from lightgbm) (1.4.1)\n",
      "Requirement already satisfied: wheel in c:\\users\\isuman success\\anaconda3\\lib\\site-packages (from lightgbm) (0.34.2)\n",
      "Requirement already satisfied: joblib>=0.11 in c:\\users\\isuman success\\anaconda3\\lib\\site-packages (from scikit-learn!=0.22.0->lightgbm) (0.14.1)\n"
     ]
    }
   ],
   "source": [
    "!pip install lightgbm"
   ]
  },
  {
   "cell_type": "code",
   "execution_count": 86,
   "metadata": {},
   "outputs": [],
   "source": [
    "import lightgbm as lgb"
   ]
  },
  {
   "cell_type": "code",
   "execution_count": 87,
   "metadata": {},
   "outputs": [],
   "source": [
    " lgb_pipeline=Pipeline([('bow', CountVectorizer(analyzer=text_processing)),\n",
    "                  ('tfidf', TfidfTransformer()),\n",
    "                 ('classifier', lgb.LGBMClassifier(learning_rate=0.1, \n",
    "                                                   max_depth=-5, \n",
    "                                                   random_state=42))\n",
    "                       ])"
   ]
  },
  {
   "cell_type": "code",
   "execution_count": 88,
   "metadata": {},
   "outputs": [
    {
     "data": {
      "text/plain": [
       "Pipeline(memory=None,\n",
       "         steps=[('bow',\n",
       "                 CountVectorizer(analyzer=<function text_processing at 0x00000210956C03A8>,\n",
       "                                 binary=False, decode_error='strict',\n",
       "                                 dtype=<class 'numpy.int64'>, encoding='utf-8',\n",
       "                                 input='content', lowercase=True, max_df=1.0,\n",
       "                                 max_features=None, min_df=1,\n",
       "                                 ngram_range=(1, 1), preprocessor=None,\n",
       "                                 stop_words=None, strip_accents=None,\n",
       "                                 token_pattern='(?u)\\\\b\\\\w...\n",
       "                 LGBMClassifier(boosting_type='gbdt', class_weight=None,\n",
       "                                colsample_bytree=1.0, importance_type='split',\n",
       "                                learning_rate=0.1, max_depth=-5,\n",
       "                                min_child_samples=20, min_child_weight=0.001,\n",
       "                                min_split_gain=0.0, n_estimators=100, n_jobs=-1,\n",
       "                                num_leaves=31, objective=None, random_state=42,\n",
       "                                reg_alpha=0.0, reg_lambda=0.0, silent='warn',\n",
       "                                subsample=1.0, subsample_for_bin=200000,\n",
       "                                subsample_freq=0))],\n",
       "         verbose=False)"
      ]
     },
     "execution_count": 88,
     "metadata": {},
     "output_type": "execute_result"
    }
   ],
   "source": [
    "lgb_pipeline.fit(X_train,y_train)"
   ]
  },
  {
   "cell_type": "code",
   "execution_count": 89,
   "metadata": {},
   "outputs": [],
   "source": [
    "lgb_predictions=lgb_pipeline.predict(X_val)"
   ]
  },
  {
   "cell_type": "code",
   "execution_count": 90,
   "metadata": {},
   "outputs": [
    {
     "name": "stdout",
     "output_type": "stream",
     "text": [
      "              precision    recall  f1-score   support\n",
      "\n",
      "           0       0.89      0.96      0.92      2874\n",
      "           1       0.81      0.61      0.70       881\n",
      "\n",
      "    accuracy                           0.87      3755\n",
      "   macro avg       0.85      0.78      0.81      3755\n",
      "weighted avg       0.87      0.87      0.87      3755\n",
      "\n"
     ]
    }
   ],
   "source": [
    "print(classification_report(y_val,lgb_predictions))"
   ]
  },
  {
   "cell_type": "markdown",
   "metadata": {},
   "source": [
    "## Using XGBOOST MODEL"
   ]
  },
  {
   "cell_type": "code",
   "execution_count": 91,
   "metadata": {},
   "outputs": [],
   "source": [
    "import xgboost\n",
    "from xgboost import XGBClassifier"
   ]
  },
  {
   "cell_type": "code",
   "execution_count": 92,
   "metadata": {},
   "outputs": [],
   "source": [
    "xgb_pipeline=Pipeline([('bow', CountVectorizer(analyzer=text_processing)),\n",
    "                  ('tfidf', TfidfTransformer()),\n",
    "                  ('classifier', XGBClassifier(random_state=1, \n",
    "                                               learning= .1, \n",
    "                                               n_estimators=200,\n",
    "                                               max_depths=5,\n",
    "                                               subsample=0.5,\n",
    "                                               colsample=0.5,\n",
    "                                               eval_metric='auc',\n",
    "                                               verbosity=1))\n",
    "                  ])"
   ]
  },
  {
   "cell_type": "code",
   "execution_count": 93,
   "metadata": {},
   "outputs": [
    {
     "name": "stdout",
     "output_type": "stream",
     "text": [
      "[13:32:48] WARNING: C:/Users/administrator/workspace/xgboost-win64_release_1.6.0/src/learner.cc:627: \n",
      "Parameters: { \"colsample\", \"learning\", \"max_depths\" } might not be used.\n",
      "\n",
      "  This could be a false alarm, with some parameters getting used by language bindings but\n",
      "  then being mistakenly passed down to XGBoost core, or some parameter actually being used\n",
      "  but getting flagged wrongly here. Please open an issue if you find any such cases.\n",
      "\n",
      "\n"
     ]
    },
    {
     "data": {
      "text/plain": [
       "Pipeline(memory=None,\n",
       "         steps=[('bow',\n",
       "                 CountVectorizer(analyzer=<function text_processing at 0x00000210956C03A8>,\n",
       "                                 binary=False, decode_error='strict',\n",
       "                                 dtype=<class 'numpy.int64'>, encoding='utf-8',\n",
       "                                 input='content', lowercase=True, max_df=1.0,\n",
       "                                 max_features=None, min_df=1,\n",
       "                                 ngram_range=(1, 1), preprocessor=None,\n",
       "                                 stop_words=None, strip_accents=None,\n",
       "                                 token_pattern='(?u)\\\\b\\\\w...\n",
       "                               gamma=0, gpu_id=-1, grow_policy='depthwise',\n",
       "                               importance_type=None, interaction_constraints='',\n",
       "                               learning=0.1, learning_rate=0.300000012,\n",
       "                               max_bin=256, max_cat_to_onehot=4,\n",
       "                               max_delta_step=0, max_depth=6, max_depths=5,\n",
       "                               max_leaves=0, min_child_weight=1, missing=nan,\n",
       "                               monotone_constraints='()', n_estimators=200,\n",
       "                               n_jobs=0, num_parallel_tree=1,\n",
       "                               objective='binary:logistic', ...))],\n",
       "         verbose=False)"
      ]
     },
     "execution_count": 93,
     "metadata": {},
     "output_type": "execute_result"
    }
   ],
   "source": [
    "xgb_pipeline.fit(X_train,y_train)"
   ]
  },
  {
   "cell_type": "code",
   "execution_count": 94,
   "metadata": {},
   "outputs": [],
   "source": [
    "xgb_prediction=xgb_pipeline.predict(X_val)"
   ]
  },
  {
   "cell_type": "code",
   "execution_count": 95,
   "metadata": {},
   "outputs": [
    {
     "name": "stdout",
     "output_type": "stream",
     "text": [
      "              precision    recall  f1-score   support\n",
      "\n",
      "           0       0.89      0.96      0.93      2874\n",
      "           1       0.82      0.63      0.71       881\n",
      "\n",
      "    accuracy                           0.88      3755\n",
      "   macro avg       0.86      0.80      0.82      3755\n",
      "weighted avg       0.88      0.88      0.88      3755\n",
      "\n"
     ]
    }
   ],
   "source": [
    "print(classification_report(y_val,xgb_prediction))"
   ]
  },
  {
   "cell_type": "markdown",
   "metadata": {},
   "source": [
    "## Training the model with training and validation dataset combined and testing it on the testing set"
   ]
  },
  {
   "cell_type": "code",
   "execution_count": 107,
   "metadata": {},
   "outputs": [
    {
     "name": "stdout",
     "output_type": "stream",
     "text": [
      "69.40073108673096 17.403791904449463\n"
     ]
    }
   ],
   "source": [
    "import time\n",
    "pipeline=Pipeline([('bow', CountVectorizer(analyzer=text_processing)),\n",
    "                  ('tfidf', TfidfTransformer())])\n",
    "start=time.time()\n",
    "pipeline.fit(train_set,train_lab)\n",
    "training_vector_time=time.time()-start\n",
    "start=time.time()\n",
    "pipeline.fit(X_test)\n",
    "testing_vector_time=time.time()-start\n",
    "print(training_vector_time, testing_vector_time)"
   ]
  },
  {
   "cell_type": "code",
   "execution_count": 108,
   "metadata": {},
   "outputs": [
    {
     "name": "stdout",
     "output_type": "stream",
     "text": [
      "LR training time: -1.410649299621582\n",
      "LR prediction time: -0.3581509590148926\n",
      "              precision    recall  f1-score   support\n",
      "\n",
      "           0       0.88      0.98      0.92      3562\n",
      "           1       0.89      0.56      0.69      1131\n",
      "\n",
      "    accuracy                           0.88      4693\n",
      "   macro avg       0.88      0.77      0.81      4693\n",
      "weighted avg       0.88      0.88      0.87      4693\n",
      "\n"
     ]
    }
   ],
   "source": [
    "\n",
    "\"\"\"Linear logistic model\"\"\"\n",
    "LR_pipeline=Pipeline([('bow', CountVectorizer(analyzer=text_processing)), \n",
    "                    ('tfidf', TfidfTransformer()), \n",
    "                    ('classifier', LogisticRegression())\n",
    "                  ])\n",
    "train_time=time.time()\n",
    "LR_pipeline.fit(train_set,train_lab)\n",
    "print(\"LR training time:\", (time.time()-train_time)-training_vector_time)\n",
    "\n",
    "\n",
    "prediction_time=time.time()\n",
    "LR_prediction=LR_pipeline.predict(X_test)\n",
    "print('LR prediction time:', (time.time()-prediction_time)-testing_vector_time)\n",
    "print(classification_report(y_test,LR_prediction))"
   ]
  },
  {
   "cell_type": "code",
   "execution_count": 109,
   "metadata": {},
   "outputs": [
    {
     "name": "stdout",
     "output_type": "stream",
     "text": [
      "NB training time: -2.034224271774292\n",
      "LR prediction time: -0.5238842964172363\n",
      "              precision    recall  f1-score   support\n",
      "\n",
      "           0       0.83      0.99      0.91      3562\n",
      "           1       0.96      0.37      0.54      1131\n",
      "\n",
      "    accuracy                           0.84      4693\n",
      "   macro avg       0.89      0.68      0.72      4693\n",
      "weighted avg       0.86      0.84      0.82      4693\n",
      "\n"
     ]
    }
   ],
   "source": [
    "\"\"\"Naive base model\"\"\"\n",
    "NB_pipeline=Pipeline([('bow', CountVectorizer(analyzer=text_processing)), \n",
    "                    ('tfidf', TfidfTransformer()), \n",
    "                    ('classifier', MultinomialNB())\n",
    "                  ])\n",
    "train_time=time.time()\n",
    "NB_pipeline.fit(train_set,train_lab)\n",
    "print(\"NB training time:\", (time.time()-train_time)-training_vector_time)\n",
    "\n",
    "\n",
    "prediction_time=time.time()\n",
    "NB_prediction=NB_pipeline.predict(X_test)\n",
    "print('LR prediction time:', (time.time()-prediction_time)-testing_vector_time)\n",
    "\n",
    "print(classification_report(y_test,NB_prediction))"
   ]
  },
  {
   "cell_type": "code",
   "execution_count": 110,
   "metadata": {
    "scrolled": true
   },
   "outputs": [
    {
     "name": "stdout",
     "output_type": "stream",
     "text": [
      "RF training time: 10.926318168640137\n",
      "RF prediction time: 1.9575979709625244\n",
      "              precision    recall  f1-score   support\n",
      "\n",
      "           0       0.95      0.96      0.95      3562\n",
      "           1       0.88      0.83      0.85      1131\n",
      "\n",
      "    accuracy                           0.93      4693\n",
      "   macro avg       0.91      0.89      0.90      4693\n",
      "weighted avg       0.93      0.93      0.93      4693\n",
      "\n"
     ]
    }
   ],
   "source": [
    "\"\"\"Random forest model\"\"\"\n",
    "RF_pipeline=Pipeline([('bow', CountVectorizer(analyzer=text_processing)),\n",
    "                  ('tfidf', TfidfTransformer()),\n",
    "                  ('classifier', RandomForestClassifier(n_estimators=100,\n",
    "                                                       min_samples_split=50,\n",
    "                                                       random_state=1))\n",
    "                  ])\n",
    "train_time=time.time()\n",
    "RF_pipeline.fit(train_set,train_lab)\n",
    "print(\"RF training time:\", (time.time()-train_time)-training_vector_time)\n",
    "\n",
    "\n",
    "prediction_time=time.time()\n",
    "RF_prediction=RF_pipeline.predict(X_test)\n",
    "print('RF prediction time:', (time.time()-prediction_time)-testing_vector_time)\n",
    "\n",
    "print(classification_report(y_test,RF_prediction))"
   ]
  },
  {
   "cell_type": "code",
   "execution_count": 111,
   "metadata": {},
   "outputs": [
    {
     "name": "stdout",
     "output_type": "stream",
     "text": [
      "svm training time: 76.78254270553589\n",
      "svm prediction time: 5.557945489883423\n",
      "              precision    recall  f1-score   support\n",
      "\n",
      "           0       0.91      0.98      0.95      3562\n",
      "           1       0.93      0.71      0.80      1131\n",
      "\n",
      "    accuracy                           0.92      4693\n",
      "   macro avg       0.92      0.85      0.88      4693\n",
      "weighted avg       0.92      0.92      0.91      4693\n",
      "\n"
     ]
    }
   ],
   "source": [
    "\"\"\"SVM model\"\"\"\n",
    "svm_pipeline=Pipeline([('bow', CountVectorizer(analyzer=text_processing)),\n",
    "                  ('tfidf', TfidfTransformer()),\n",
    "                  ('classifier', svm.SVC(kernel='rbf'))\n",
    "                  ])\n",
    "train_time=time.time()\n",
    "svm_pipeline.fit(train_set,train_lab)\n",
    "print(\"svm training time:\", (time.time()-train_time)-training_vector_time)\n",
    "\n",
    "\n",
    "prediction_time=time.time()\n",
    "svm_prediction=svm_pipeline.predict(X_test)\n",
    "print('svm prediction time:', (time.time()-prediction_time)-testing_vector_time)\n",
    "\n",
    "print(classification_report(y_test,svm_prediction))"
   ]
  },
  {
   "cell_type": "code",
   "execution_count": 112,
   "metadata": {},
   "outputs": [
    {
     "name": "stdout",
     "output_type": "stream",
     "text": [
      "lgb training time: 0.07366561889648438\n",
      "lgb prediction time: 0.18191170692443848\n",
      "              precision    recall  f1-score   support\n",
      "\n",
      "           0       0.90      0.96      0.93      3562\n",
      "           1       0.84      0.66      0.74      1131\n",
      "\n",
      "    accuracy                           0.89      4693\n",
      "   macro avg       0.87      0.81      0.83      4693\n",
      "weighted avg       0.89      0.89      0.88      4693\n",
      "\n"
     ]
    }
   ],
   "source": [
    "\"\"\"lightgbm model\"\"\"\n",
    "lgb_pipeline=Pipeline([('bow', CountVectorizer(analyzer=text_processing)),\n",
    "                  ('tfidf', TfidfTransformer()),\n",
    "                 ('classifier', lgb.LGBMClassifier(learning_rate=0.1, \n",
    "                                                   max_depth=-5, \n",
    "                                                   random_state=42))\n",
    "                       ])\n",
    "train_time=time.time()\n",
    "lgb_pipeline.fit(train_set,train_lab)\n",
    "print(\"lgb training time:\", (time.time()-train_time)-training_vector_time)\n",
    "\n",
    "\n",
    "prediction_time=time.time()\n",
    "lgb_prediction=lgb_pipeline.predict(X_test)\n",
    "print('lgb prediction time:', (time.time()-prediction_time)-testing_vector_time)\n",
    "\n",
    "print(classification_report(y_test,lgb_prediction))"
   ]
  },
  {
   "cell_type": "code",
   "execution_count": 113,
   "metadata": {},
   "outputs": [
    {
     "name": "stdout",
     "output_type": "stream",
     "text": [
      "[16:27:57] WARNING: C:/Users/administrator/workspace/xgboost-win64_release_1.6.0/src/learner.cc:627: \n",
      "Parameters: { \"colsample\", \"learning\", \"max_depths\" } might not be used.\n",
      "\n",
      "  This could be a false alarm, with some parameters getting used by language bindings but\n",
      "  then being mistakenly passed down to XGBoost core, or some parameter actually being used\n",
      "  but getting flagged wrongly here. Please open an issue if you find any such cases.\n",
      "\n",
      "\n",
      "xgm training time: 4.40308952331543\n",
      "xgm prediction time: -0.26681995391845703\n",
      "              precision    recall  f1-score   support\n",
      "\n",
      "           0       0.90      0.96      0.93      3562\n",
      "           1       0.85      0.65      0.74      1131\n",
      "\n",
      "    accuracy                           0.89      4693\n",
      "   macro avg       0.87      0.81      0.83      4693\n",
      "weighted avg       0.89      0.89      0.88      4693\n",
      "\n"
     ]
    }
   ],
   "source": [
    "\"\"\"XG boost model\"\"\"\n",
    "xgb_pipeline=Pipeline([('bow', CountVectorizer(analyzer=text_processing)),\n",
    "                  ('tfidf', TfidfTransformer()),\n",
    "                  ('classifier', XGBClassifier(random_state=1, \n",
    "                                               learning= .1, \n",
    "                                               n_estimators=200,\n",
    "                                               max_depths=5,\n",
    "                                               subsample=0.5,\n",
    "                                               colsample=0.5,\n",
    "                                               eval_metric='auc',\n",
    "                                               verbosity=1))\n",
    "                  ])\n",
    "train_time=time.time()\n",
    "xgb_pipeline.fit(train_set,train_lab)\n",
    "print(\"xgm training time:\", (time.time()-train_time)-training_vector_time)\n",
    "\n",
    "\n",
    "prediction_time=time.time()\n",
    "xgb_prediction=xgb_pipeline.predict(X_test)\n",
    "print('xgm prediction time:', (time.time()-prediction_time)-testing_vector_time)\n",
    "\n",
    "print(classification_report(y_test,xgb_prediction))"
   ]
  },
  {
   "cell_type": "code",
   "execution_count": 117,
   "metadata": {},
   "outputs": [],
   "source": [
    "import numpy as np\n",
    "X=['Logistic Regression','Multinomial NB',\n",
    "   'Random Forest','SVM','LGBM Classifier','XG boost model']\n",
    "Acuracy=[0.88,0.84,0.93,0.92,0.89,0.89]\n",
    "precision=[0.88,0.86,0.93,0.92,0.89,0.89]\n",
    "recall=[0.88,0.84,0.93,0.92,0.89,0.89]\n",
    "F1_Score=[0.87,0.82,0.93,0.91,0.88,0.88]\n"
   ]
  },
  {
   "cell_type": "code",
   "execution_count": 131,
   "metadata": {
    "scrolled": true
   },
   "outputs": [
    {
     "data": {
      "text/plain": [
       "<matplotlib.legend.Legend at 0x210b32d5308>"
      ]
     },
     "execution_count": 131,
     "metadata": {},
     "output_type": "execute_result"
    },
    {
     "data": {
      "image/png": "[encoded data removed]",
      "text/plain": [
       "<Figure size 720x360 with 1 Axes>"
      ]
     },
     "metadata": {
      "needs_background": "light"
     },
     "output_type": "display_data"
    }
   ],
   "source": [
    "plt.figure(figsize=(10,5))\n",
    "X_axis=np.arange(len(X))\n",
    "plt.bar(X_axis-0.4, Acuracy, 0.2, label='Acuracy')\n",
    "plt.bar(X_axis-0.2, precision, 0.2, label='precision')\n",
    "plt.bar(X_axis, recall, 0.2, label='recall')\n",
    "plt.bar(X_axis+0.2, F1_Score, 0.2, label='F1_Score')\n",
    "plt.xticks(X_axis, X)\n",
    "plt.xlabel('Algorithms', color='r')\n",
    "plt.ylabel('Performance score', color='r')\n",
    "plt.title('Performance Summary of Algorithms', color='r')\n",
    "plt.legend(bbox_to_anchor=(1,1.05))\n"
   ]
  },
  {
   "cell_type": "code",
   "execution_count": 144,
   "metadata": {},
   "outputs": [
    {
     "data": {
      "text/plain": [
       "Text(0.5, 1.0, 'Performance Based on F1_score')"
      ]
     },
     "execution_count": 144,
     "metadata": {},
     "output_type": "execute_result"
    },
    {
     "data": {
      "image/png": "[encoded data removed]",
      "text/plain": [
       "<Figure size 720x360 with 1 Axes>"
      ]
     },
     "metadata": {
      "needs_background": "light"
     },
     "output_type": "display_data"
    }
   ],
   "source": [
    "plt.figure(figsize=(10,5))\n",
    "plt.bar(X,F1_Score, 0.5)\n",
    "plt.title('Performance Based on F1_score', color='r')\n"
   ]
  },
  {
   "cell_type": "code",
   "execution_count": null,
   "metadata": {},
   "outputs": [],
   "source": []
  }
 ],
 "metadata": {
  "kernelspec": {
   "display_name": "Python 3",
   "language": "python",
   "name": "python3"
  },
  "language_info": {
   "codemirror_mode": {
    "name": "ipython",
    "version": 3
   },
   "file_extension": ".py",
   "mimetype": "text/x-python",
   "name": "python",
   "nbconvert_exporter": "python",
   "pygments_lexer": "ipython3",
   "version": "3.7.6"
  }
 },
 "nbformat": 4,
 "nbformat_minor": 4
}
